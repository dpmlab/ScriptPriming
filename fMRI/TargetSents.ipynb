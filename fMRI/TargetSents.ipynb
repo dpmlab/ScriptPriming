{
 "cells": [
  {
   "cell_type": "code",
   "execution_count": 7,
   "id": "e9003559-0081-4618-b1f1-7fbe656b39a0",
   "metadata": {
    "tags": []
   },
   "outputs": [],
   "source": [
    "import pickle\n",
    "import numpy as np\n",
    "from make_BIDS_behav_dict import make_BIDS_behav_dict\n",
    "import glob\n",
    "import pandas as pd"
   ]
  },
  {
   "cell_type": "code",
   "execution_count": 5,
   "id": "dcea89df-b55a-4402-8e49-677470adce6a",
   "metadata": {},
   "outputs": [],
   "source": [
    "story_lens = pickle.load(open('Preprocessing/pickle/story_lens36.pickle', 'rb'))\n",
    "listen_order = pickle.load(open('Preprocessing/pickle/listen_order36.pickle', 'rb'))\n",
    "timing = pickle.load(open('Preprocessing/pickle/timing36.pickle', 'rb'))"
   ]
  },
  {
   "cell_type": "code",
   "execution_count": 6,
   "id": "ee96c898-e95d-468a-a471-4aa4b5c94098",
   "metadata": {},
   "outputs": [
    {
     "name": "stdout",
     "output_type": "stream",
     "text": [
      "['sub-01', 'sub-02', 'sub-03', 'sub-04', 'sub-05', 'sub-06', 'sub-07', 'sub-08', 'sub-09', 'sub-10', 'sub-12', 'sub-13', 'sub-14', 'sub-16', 'sub-17', 'sub-18', 'sub-19', 'sub-20', 'sub-21', 'sub-22', 'sub-23', 'sub-24', 'sub-25', 'sub-26', 'sub-27', 'sub-28', 'sub-29', 'sub-30', 'sub-31', 'sub-32', 'sub-33', 'sub-34', 'sub-35', 'sub-36', 'sub-37', 'sub-38']\n"
     ]
    }
   ],
   "source": [
    "subs = ['sub-01', 'sub-02', 'sub-03', 'sub-04', 'sub-05', 'sub-06', 'sub-07', 'sub-08', 'sub-09', 'sub-10',\n",
    "       'sub-12', 'sub-13','sub-14', 'sub-16', 'sub-17', 'sub-18', 'sub-19', 'sub-20', 'sub-21', 'sub-22',\n",
    "        'sub-23', 'sub-24', 'sub-25', 'sub-26', 'sub-27', 'sub-28', 'sub-29', 'sub-30', 'sub-31', 'sub-32', 'sub-33', \n",
    "       'sub-34', 'sub-35', 'sub-36', 'sub-37', 'sub-38']\n",
    "\n",
    "behav_files = make_BIDS_behav_dict(subs)"
   ]
  },
  {
   "cell_type": "code",
   "execution_count": 9,
   "id": "2f8a0a35-bb8c-451a-8ace-d4d09f34c4f5",
   "metadata": {},
   "outputs": [],
   "source": [
    "stories = [11,12,13,14,21,22,23,24,31,32,33,34,41,42,43,44]\n",
    "\n",
    "#import stories files\n",
    "directory_stories = '/data/topdown/stim/story_csv'\n",
    "\n",
    "filenames_stories = glob.glob(directory_stories + '/*.csv')\n",
    "\n",
    "dfs_stories = []\n",
    "    \n",
    "for filename in filenames_stories:\n",
    "    dfs_stories.append(pd.read_csv(filename))\n",
    "\n",
    "# organize in dict   \n",
    "story_answers = dict()\n",
    "\n",
    "#read in the location and social event values from the story files \n",
    "for s in range(16):\n",
    "    this_story = int(dfs_stories[s]['story'].iloc[0])\n",
    "    keys2 = dfs_stories[s]['locationAnswer'].values\n",
    "    keys3 = dfs_stories[s]['socialAnswer'].values\n",
    "    story_answers[this_story] = keys2[:, np.newaxis]\n",
    "    story_answers[this_story] = np.concatenate((story_answers[this_story], keys3[:, np.newaxis]), axis = 1)"
   ]
  },
  {
   "cell_type": "code",
   "execution_count": 12,
   "id": "86de8d55-fd60-4f02-838a-bc425625e97c",
   "metadata": {},
   "outputs": [],
   "source": [
    "answer_TRs = {}\n",
    "\n",
    "for story in stories:\n",
    "    answer_TRs[story] = {'location': {}, 'social':{}}"
   ]
  },
  {
   "cell_type": "code",
   "execution_count": 40,
   "id": "c3ecb0f9-67fd-4228-a9af-217187bd5dda",
   "metadata": {},
   "outputs": [],
   "source": [
    "for story in stories:\n",
    "    for schema in ['location', 'social']:\n",
    "        if schema == 'location':\n",
    "            answer_sents = np.where(~np.isnan(story_answers[story][:,0]))\n",
    "        else:\n",
    "            answer_sents = np.where(~np.isnan(story_answers[story][:,1]))\n",
    "        \n",
    "        start_times = np.zeros((4,0))\n",
    "        # iterate through all subjects in listen_order and find instances where the current story is listenened to\n",
    "        for sub in listen_order.keys():\n",
    "            for run in listen_order[sub].keys():\n",
    "                this_pd = pd.read_csv(behav_files[sub][run])\n",
    "                for i in range(listen_order[sub][run].shape[0]):\n",
    "                    # If the story was listened to by this person in this run...\n",
    "                    if listen_order[sub][run][i][1] == story:\n",
    "                        this_count = listen_order[sub][run][i][0]    \n",
    "                        # find the start times of all the audio clips of that story\n",
    "                        starts = this_pd['clip_StartTime'].values[this_pd['count']==this_count]\n",
    "                        starts = starts[~np.isnan(starts)]\n",
    "                        # Get clip start times of answers\n",
    "                        st_answer_starts = starts[answer_sents]\n",
    "                        # see how far all events are from the start of the first sentence\n",
    "                        this_subtr = starts[0]\n",
    "                        grounded_event_starts = st_answer_starts - this_subtr\n",
    "                        # reshape\n",
    "                        grounded_event_starts = grounded_event_starts.reshape(grounded_event_starts.shape[0], -1)\n",
    "                        # add the subtracted event starts to start_times\n",
    "                        start_times = np.hstack((start_times, grounded_event_starts))\n",
    "        # average the answer times across participants\n",
    "        avg_st = np.mean(start_times, axis = 1)\n",
    "        # round up for the TR event length\n",
    "        for i in range(0,4):\n",
    "            this_start, this_dec = str(avg_st[i]).split('.')\n",
    "            this_start = int(this_start) + 1\n",
    "            avg_st[i] = int(this_start)\n",
    "        \n",
    "        answer_TRs[story][schema] = avg_st.astype('int')"
   ]
  },
  {
   "cell_type": "code",
   "execution_count": 41,
   "id": "c703a231-a73a-4608-9c38-38b3b1b3b110",
   "metadata": {},
   "outputs": [
    {
     "data": {
      "text/plain": [
       "{11: {'location': array([ 17, 113, 125, 203]),\n",
       "  'social': array([ 13,  75, 133, 187])},\n",
       " 12: {'location': array([ 10,  44,  93, 171]),\n",
       "  'social': array([ 18,  74, 128, 190])},\n",
       " 13: {'location': array([ 27,  37, 113, 151]),\n",
       "  'social': array([ 12,  84, 131, 193])},\n",
       " 14: {'location': array([ 18,  46,  88, 150]),\n",
       "  'social': array([  7,  55, 116, 193])},\n",
       " 21: {'location': array([ 22,  54,  91, 139]),\n",
       "  'social': array([  1,  77, 159, 206])},\n",
       " 22: {'location': array([ 20,  85, 206, 230]),\n",
       "  'social': array([ 14,  60, 137, 218])},\n",
       " 23: {'location': array([ 11,  69, 100, 214]),\n",
       "  'social': array([ 41,  84, 152, 205])},\n",
       " 24: {'location': array([ 17,  59, 104, 214]),\n",
       "  'social': array([ 29,  90, 168, 201])},\n",
       " 31: {'location': array([ 32,  62, 122, 213]),\n",
       "  'social': array([ 14,  72, 176, 237])},\n",
       " 32: {'location': array([ 12, 122, 142, 246]),\n",
       "  'social': array([ 32, 114, 185, 203])},\n",
       " 33: {'location': array([ 10, 143, 178, 246]),\n",
       "  'social': array([ 31, 124, 218, 269])},\n",
       " 34: {'location': array([ 47,  61,  97, 151]),\n",
       "  'social': array([ 18,  89, 131, 181])},\n",
       " 41: {'location': array([ 53,  73, 152, 219]),\n",
       "  'social': array([ 31,  89, 172, 224])},\n",
       " 42: {'location': array([  9, 129, 190, 242]),\n",
       "  'social': array([  9,  64, 169, 227])},\n",
       " 43: {'location': array([ 12,  68,  79, 146]),\n",
       "  'social': array([  8,  39, 102, 151])},\n",
       " 44: {'location': array([ 18,  52, 110, 159]),\n",
       "  'social': array([  1,  80, 139, 179])}}"
      ]
     },
     "execution_count": 41,
     "metadata": {},
     "output_type": "execute_result"
    }
   ],
   "source": [
    "answer_TRs"
   ]
  },
  {
   "cell_type": "code",
   "execution_count": 42,
   "id": "a2d1bcf4-6d54-418c-99ab-5576c5ed4436",
   "metadata": {},
   "outputs": [],
   "source": [
    "with open(\"target_TRs.pickle\", 'wb') as handle:\n",
    "    pickle.dump(answer_TRs, handle)"
   ]
  },
  {
   "cell_type": "code",
   "execution_count": null,
   "id": "5bc35493-38bc-4c01-b96a-9afd051d5daa",
   "metadata": {},
   "outputs": [],
   "source": []
  }
 ],
 "metadata": {
  "kernelspec": {
   "display_name": "Python 3 (ipykernel)",
   "language": "python",
   "name": "python3"
  },
  "language_info": {
   "codemirror_mode": {
    "name": "ipython",
    "version": 3
   },
   "file_extension": ".py",
   "mimetype": "text/x-python",
   "name": "python",
   "nbconvert_exporter": "python",
   "pygments_lexer": "ipython3",
   "version": "3.7.12"
  }
 },
 "nbformat": 4,
 "nbformat_minor": 5
}
