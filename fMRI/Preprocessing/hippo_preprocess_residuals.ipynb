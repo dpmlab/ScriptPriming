{
 "cells": [
  {
   "cell_type": "code",
   "execution_count": 1,
   "metadata": {},
   "outputs": [
    {
     "data": {
      "application/javascript": [
       "IPython.notebook.set_autosave_interval(5000)"
      ]
     },
     "metadata": {},
     "output_type": "display_data"
    },
    {
     "name": "stdout",
     "output_type": "stream",
     "text": [
      "Autosaving every 5 seconds\n"
     ]
    }
   ],
   "source": [
    "import glob\n",
    "import nibabel as nib\n",
    "import pandas as pd\n",
    "import numpy as np\n",
    "import os\n",
    "import h5py\n",
    "from sklearn import linear_model\n",
    "from scipy.stats import zscore\n",
    "from scipy import stats\n",
    "import matplotlib.pyplot as plt\n",
    "import math\n",
    "import pickle\n",
    "import joblib\n",
    "\n",
    "%autosave 5"
   ]
  },
  {
   "cell_type": "code",
   "execution_count": 2,
   "metadata": {},
   "outputs": [],
   "source": [
    "img = nib.load('/data/topdown/fmriprep/fmriprep/sub-01/func/sub-01_task-listen_run-1_space-MNI152NLin2009cAsym_desc-preproc_bold.nii.gz')"
   ]
  },
  {
   "cell_type": "code",
   "execution_count": 3,
   "metadata": {},
   "outputs": [
    {
     "data": {
      "text/plain": [
       "(78, 93, 78, 1793)"
      ]
     },
     "execution_count": 3,
     "metadata": {},
     "output_type": "execute_result"
    }
   ],
   "source": [
    "img.shape"
   ]
  },
  {
   "cell_type": "code",
   "execution_count": null,
   "metadata": {},
   "outputs": [],
   "source": [
    "import glob\n",
    "import nibabel as nib\n",
    "import pandas as pd\n",
    "import numpy as np\n",
    "import os\n",
    "from sklearn import linear_model\n",
    "from scipy.stats import zscore\n",
    "from scipy import stats\n",
    "import matplotlib.pyplot as plt\n",
    "import math\n",
    "import pickle\n",
    "from tqdm import tqdm\n",
    "\n",
    "def create_encoding_residuals_mni(sub, fmripreppath):\n",
    "    \n",
    "    res_dict = dict()\n",
    "    \n",
    "    runs = ['run-1', 'run-2', 'run-3', 'run-4']\n",
    "    \n",
    "    for run in runs:\n",
    "        fname = os.path.join(fmripreppath + sub + '/func/' + \\\n",
    "          sub + '_task-listen_' + run + '_space-fsaverage6_hemi-R.func.gii')\n",
    "        if os.path.exists(fname):\n",
    "            print('run:',run)\n",
    "            D = dict()\n",
    "            for hem in ['L', 'R']:\n",
    "                fname = os.path.join(fmripreppath + sub + '/func/' + \\\n",
    "                sub + '_task-listen_' + run + '_space-fsaverage6_hemi-' + hem + '.func.gii')\n",
    "                print('      Loading ', fname)\n",
    "                gi = nib.load(fname)\n",
    "                D[hem] = np.column_stack([gi.darrays[t].data for t in range(len(gi.darrays))])\n",
    "\n",
    "            # Use regressors for:\n",
    "            # -CSF\n",
    "            # -WhiteMatter\n",
    "            # -FramewiseDisplacement\n",
    "            # -All cosine bases for drift (0.008 Hz = 125s)\n",
    "            # -X, Y, Z and derivatives\n",
    "            # -RotX, RotY, RotZ and derivatives\n",
    "            # Motion Outliers\n",
    "\n",
    "            conf = np.genfromtxt(os.path.join(fmripreppath + sub + '/func/' + \\\n",
    "                      sub + '_task-listen_' + run + '_desc-confounds_regressors.tsv'), names=True)\n",
    "\n",
    "            reg = np.column_stack((conf['trans_x'],\n",
    "                  conf['trans_x_derivative1'],\n",
    "                  conf['trans_y'],\n",
    "                  conf['trans_y_derivative1'],\n",
    "                  conf['trans_z'],\n",
    "                  conf['trans_z_derivative1'],\n",
    "                  conf['rot_x'],\n",
    "                  conf['rot_x_derivative1'],\n",
    "                  conf['rot_y'],\n",
    "                  conf['rot_y_derivative1'],\n",
    "                  conf['rot_z'],\n",
    "                  conf['rot_z_derivative1'],\n",
    "                  conf['csf'],\n",
    "                  conf['white_matter'],\n",
    "                  conf['framewise_displacement'],\n",
    "                  np.column_stack([conf[k] for k in conf.dtype.names if ('cosine' in k) or ('motion_outlier' in k)])))\n",
    "\n",
    "            reg = np.nan_to_num(reg)\n",
    "\n",
    "            print('    cleaning and zscoring')\n",
    "            for hem in ['L', 'R']:\n",
    "                regr = linear_model.LinearRegression()\n",
    "                regr.fit(reg, D[hem].T)\n",
    "                D[hem] = D[hem] - np.dot(regr.coef_, reg.T) - regr.intercept_[:, np.newaxis]\n",
    "                # Note 8% of values on cortical surface are NaNs, and the following will therefore throw an error\n",
    "                D[hem] = stats.zscore(D[hem], axis=1)\n",
    "            res_dict[run] = D\n",
    "            \n",
    "    return res_dict"
   ]
  }
 ],
 "metadata": {
  "kernelspec": {
   "display_name": "Python 3 (ipykernel)",
   "language": "python",
   "name": "python3"
  },
  "language_info": {
   "codemirror_mode": {
    "name": "ipython",
    "version": 3
   },
   "file_extension": ".py",
   "mimetype": "text/x-python",
   "name": "python",
   "nbconvert_exporter": "python",
   "pygments_lexer": "ipython3",
   "version": "3.7.12"
  }
 },
 "nbformat": 4,
 "nbformat_minor": 4
}
