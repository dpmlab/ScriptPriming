{
 "cells": [
  {
   "cell_type": "code",
   "execution_count": 2,
   "metadata": {},
   "outputs": [
    {
     "data": {
      "application/javascript": [
       "IPython.notebook.set_autosave_interval(5000)"
      ]
     },
     "metadata": {},
     "output_type": "display_data"
    },
    {
     "name": "stdout",
     "output_type": "stream",
     "text": [
      "Autosaving every 5 seconds\n"
     ]
    }
   ],
   "source": [
    "import glob\n",
    "import nibabel as nib\n",
    "import pandas as pd\n",
    "import numpy as np\n",
    "import os\n",
    "import h5py\n",
    "from sklearn import linear_model\n",
    "from scipy.stats import zscore\n",
    "from scipy import stats\n",
    "import matplotlib.pyplot as plt\n",
    "import math\n",
    "import pickle\n",
    "import joblib\n",
    "\n",
    "%autosave 5"
   ]
  },
  {
   "cell_type": "code",
   "execution_count": 3,
   "metadata": {},
   "outputs": [],
   "source": [
    "subs = ['sub-01', 'sub-02', 'sub-03', 'sub-04', 'sub-05', 'sub-06', 'sub-07', 'sub-08', 'sub-09', 'sub-10',\n",
    "       'sub-12', 'sub-13','sub-14', 'sub-16', 'sub-17', 'sub-18', 'sub-19', 'sub-20', 'sub-21', 'sub-22',\n",
    "        'sub-23', 'sub-24', 'sub-25', 'sub-26', 'sub-27', 'sub-28', 'sub-29', 'sub-30', 'sub-31', 'sub-32', 'sub-33', \n",
    "       'sub-34', 'sub-35', 'sub-36', 'sub-37', 'sub-38']\n",
    "\n",
    "\n",
    "fmripreppath = '/data/topdown/fmriprep/fmriprep/'"
   ]
  },
  {
   "cell_type": "code",
   "execution_count": 10,
   "metadata": {},
   "outputs": [],
   "source": [
    "# only use voxels that are shared across 100% of participants\n",
    "count = 0\n",
    "\n",
    "for sub in subs:\n",
    "    runs = ['run-1', 'run-2', 'run-3', 'run-4']\n",
    "    \n",
    "    for run in runs:\n",
    "        # import mask\n",
    "        \n",
    "        mask_fname = os.path.join(fmripreppath + sub + '/func/' + \\\n",
    "                  sub + '_task-listen_' + run + '_space-MNI152NLin2009cAsym_desc-aparcaseg_dseg.nii.gz')\n",
    "        if os.path.exists(mask_fname):\n",
    "            mask = nib.load(mask_fname)\n",
    "            mask_a = mask.get_fdata()\n",
    "\n",
    "            # mask hippocampus\n",
    "            hippo_mask = (mask_a == 17) + (mask_a == 53)\n",
    "            if count == 0:\n",
    "                product_mask = hippo_mask\n",
    "                count = 1\n",
    "            else:\n",
    "                product_mask = product_mask*hippo_mask"
   ]
  },
  {
   "cell_type": "code",
   "execution_count": 36,
   "metadata": {},
   "outputs": [
    {
     "data": {
      "text/plain": [
       "['pickle/hippo_mask_uniform.sav']"
      ]
     },
     "execution_count": 36,
     "metadata": {},
     "output_type": "execute_result"
    }
   ],
   "source": [
    "filename = 'pickle/hippo_mask_uniform.sav'\n",
    "joblib.dump(product_mask, filename)"
   ]
  },
  {
   "cell_type": "code",
   "execution_count": 6,
   "metadata": {},
   "outputs": [],
   "source": [
    "# only use voxels that are shared across 80% of participants\n",
    "count = 0\n",
    "sum_mask = np.zeros((78, 93, 78))\n",
    "\n",
    "for sub in subs:\n",
    "    runs = ['run-1', 'run-2', 'run-3', 'run-4']\n",
    "    \n",
    "    for run in runs:\n",
    "        # import mask\n",
    "        \n",
    "        mask_fname = os.path.join(fmripreppath + sub + '/func/' + \\\n",
    "                  sub + '_task-listen_' + run + '_space-MNI152NLin2009cAsym_desc-aparcaseg_dseg.nii.gz')\n",
    "        if os.path.exists(mask_fname):\n",
    "            mask = nib.load(mask_fname)\n",
    "            mask_a = mask.get_fdata()\n",
    "\n",
    "            # mask hippocampus\n",
    "            hippo_mask = (mask_a == 17) + (mask_a == 53)\n",
    "            sum_mask = sum_mask + hippo_mask"
   ]
  },
  {
   "cell_type": "code",
   "execution_count": 8,
   "metadata": {},
   "outputs": [],
   "source": [
    "percent_mask = sum_mask/len(subs)"
   ]
  },
  {
   "cell_type": "code",
   "execution_count": 12,
   "metadata": {},
   "outputs": [],
   "source": [
    "low_values_flags = percent_mask < .8  # Where values are low\n",
    "percent_mask[low_values_flags] = 0"
   ]
  },
  {
   "cell_type": "code",
   "execution_count": 17,
   "metadata": {},
   "outputs": [],
   "source": [
    "percent_mask = percent_mask != 0"
   ]
  },
  {
   "cell_type": "code",
   "execution_count": 18,
   "metadata": {},
   "outputs": [
    {
     "data": {
      "text/plain": [
       "785"
      ]
     },
     "execution_count": 18,
     "metadata": {},
     "output_type": "execute_result"
    }
   ],
   "source": [
    "np.count_nonzero(percent_mask)"
   ]
  },
  {
   "cell_type": "code",
   "execution_count": 19,
   "metadata": {},
   "outputs": [
    {
     "data": {
      "text/plain": [
       "['pickle/hippo_mask_80.sav']"
      ]
     },
     "execution_count": 19,
     "metadata": {},
     "output_type": "execute_result"
    }
   ],
   "source": [
    "filename = 'pickle/hippo_mask_80.sav'\n",
    "joblib.dump(percent_mask, filename)"
   ]
  },
  {
   "cell_type": "code",
   "execution_count": null,
   "metadata": {},
   "outputs": [],
   "source": []
  }
 ],
 "metadata": {
  "kernelspec": {
   "display_name": "Python 3 (ipykernel)",
   "language": "python",
   "name": "python3"
  },
  "language_info": {
   "codemirror_mode": {
    "name": "ipython",
    "version": 3
   },
   "file_extension": ".py",
   "mimetype": "text/x-python",
   "name": "python",
   "nbconvert_exporter": "python",
   "pygments_lexer": "ipython3",
   "version": "3.7.12"
  }
 },
 "nbformat": 4,
 "nbformat_minor": 4
}
