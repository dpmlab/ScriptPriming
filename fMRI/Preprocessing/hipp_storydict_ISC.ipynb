{
 "cells": [
  {
   "cell_type": "code",
   "execution_count": null,
   "metadata": {},
   "outputs": [],
   "source": [
    "import glob\n",
    "import nibabel as nib\n",
    "import pandas as pd\n",
    "import numpy as np\n",
    "import os\n",
    "import h5py\n",
    "from sklearn import linear_model\n",
    "from scipy.stats import zscore\n",
    "from scipy import stats\n",
    "import matplotlib.pyplot as plt\n",
    "import math\n",
    "import pickle\n",
    "import joblib\n",
    "import sys\n",
    "import deepdish as dd\n",
    "\n",
    "from modules.make_BIDS_behav_dict import make_BIDS_behav_dict\n",
    "from modules.get_listenorder import get_listenorder\n",
    "from modules.listen_timing import listen_timing\n",
    "from modules.avg_story_lens import avg_story_lens\n",
    "from modules.create_residuals import create_residuals\n",
    "from modules.all_voxels_story_data import all_voxels_story_data\n",
    "from modules.all_ROIs_story_data import all_ROIs_story_data\n",
    "from modules.process_Recall_Residuals import process_Recall_Residuals\n",
    "from modules.do_motion_assessment import do_motion_assessment\n",
    "from modules.create_residuals_no_mo import create_residuals_no_mo"
   ]
  },
  {
   "cell_type": "code",
   "execution_count": null,
   "metadata": {},
   "outputs": [],
   "source": [
    "subs = ['sub-01', 'sub-02', 'sub-03', 'sub-04', 'sub-05', 'sub-06', 'sub-07', 'sub-08', 'sub-09', 'sub-10',\n",
    "       'sub-12', 'sub-13','sub-14', 'sub-16', 'sub-17', 'sub-18', 'sub-19', 'sub-20', 'sub-21', 'sub-22',\n",
    "        'sub-23', 'sub-24', 'sub-25', 'sub-26', 'sub-27', 'sub-28', 'sub-29', 'sub-30', 'sub-31', 'sub-32', 'sub-33', \n",
    "       'sub-34', 'sub-35', 'sub-36', 'sub-37', 'sub-38']\n",
    "\n",
    "n_subs = len(subs)\n",
    "\n",
    "story_lens = pickle.load(open('pickle/story_lens36.pickle', 'rb'))\n",
    "timing = pickle.load(open('pickle/timing36.pickle', 'rb'))\n",
    "listen_order = pickle.load(open('pickle/listen_order36.pickle', 'rb'))"
   ]
  },
  {
   "cell_type": "code",
   "execution_count": null,
   "metadata": {},
   "outputs": [],
   "source": [
    "for sub_i, sub in enumerate(subs):\n",
    "    print('N hipp voxels for ', sub, '...')\n",
    "    filename = 'pickle/subs_encoding_hipp_storydict_ISC_80/' + sub + '_encoding_hipp_storydict_ISC_80.sav'\n",
    "    this_sub_storydict = joblib.load(filename)\n",
    "    if 11 in this_sub_storydict.keys():\n",
    "        print(this_sub_storydict[11].shape[0])\n",
    "    elif 12 in this_sub_storydict.keys():\n",
    "        print(this_sub_storydict[12].shape[0])\n",
    "    else: \n",
    "        print(this_sub_storydict[13].shape[0])"
   ]
  },
  {
   "cell_type": "code",
   "execution_count": null,
   "metadata": {},
   "outputs": [],
   "source": [
    "story_data = dict()\n",
    "\n",
    "\n",
    "nVox = 785\n",
    "story_data = dict()\n",
    "for story in story_lens:\n",
    "    story_data[story] = np.full((n_subs, nVox, story_lens[story]['ISC']['L'].shape[1]), np.nan)\n",
    "        \n",
    "for sub_i, sub in enumerate(subs):\n",
    "    print('processing...', sub)\n",
    "    filename = 'pickle/subs_encoding_hipp_storydict_ISC_80/' + sub + '_encoding_hipp_storydict_ISC_80.sav'\n",
    "    this_sub_storydict = joblib.load(filename)\n",
    "    for this_story in this_sub_storydict.keys():\n",
    "        run_data = this_sub_storydict[this_story]\n",
    "        story_data[this_story][sub_i,:] = run_data\n",
    "\n",
    "filename = 'pickle/hipp_storydict_ISC_' + str(len(subs)) + '_80.sav'\n",
    "joblib.dump(story_data, filename)"
   ]
  },
  {
   "cell_type": "code",
   "execution_count": null,
   "metadata": {},
   "outputs": [],
   "source": [
    "# hipp\n",
    "\n",
    "\n",
    "story_lens = pickle.load(open('pickle/story_lens36.pickle', 'rb'))\n",
    "timing = pickle.load(open('pickle/timing36.pickle', 'rb'))\n",
    "listen_order = pickle.load(open('pickle/listen_order36.pickle', 'rb'))\n",
    "\n",
    "\n",
    "\n",
    "# Loading ROIs\n",
    "ROIs = ['Ang', 'Aud', 'mPFC', 'PHC', 'PMC', 'SFG', 'STS']\n",
    "masks = dict()\n",
    "story_data = dict()\n",
    "\n",
    "for roi in ROIs:\n",
    "    with h5py.File('/data/ListEvents/SchemaROIs/' + roi + '_verts.h5', \"r\") as f:\n",
    "        masks[roi] = {'L': list(f['left']), 'R':list(f['right'])}\n",
    "    nVox = len(masks[roi]['L'])+len(masks[roi]['R'])\n",
    "    story_data[roi] = dict()\n",
    "    for story in story_lens:\n",
    "        story_data[roi][story] = np.full((n_subs, nVox, story_lens[story]['ISC']['L'].shape[1]), np.nan)\n",
    "        \n",
    "for sub_i, sub in enumerate(subs):\n",
    "    print('processing...', sub)\n",
    "    filename = 'pickle/subs_encoding_storydict_ISC/' + sub + '_encoding_storydict_ISC.sav'\n",
    "    this_sub_storydict = joblib.load(filename)\n",
    "    for this_story in this_sub_storydict.keys():\n",
    "        for roi in ROIs:\n",
    "            run_data = np.row_stack((this_sub_storydict[this_story]['L'][masks[roi]['L']],this_sub_storydict[this_story]['R'][masks[roi]['R']]))\n",
    "            story_data[roi][this_story][sub_i,:] = run_data\n",
    "\n",
    "filename = 'pickle/roi_storydict_ISC_' + str(len(subs)) + '.sav'\n",
    "joblib.dump(story_data, filename)"
   ]
  },
  {
   "cell_type": "code",
   "execution_count": null,
   "metadata": {},
   "outputs": [],
   "source": [
    "plt.imshow(story_data['Ang'][11][:,0,:])"
   ]
  },
  {
   "cell_type": "code",
   "execution_count": null,
   "metadata": {},
   "outputs": [],
   "source": []
  }
 ],
 "metadata": {
  "kernelspec": {
   "display_name": "Python 3 (ipykernel)",
   "language": "python",
   "name": "python3"
  },
  "language_info": {
   "codemirror_mode": {
    "name": "ipython",
    "version": 3
   },
   "file_extension": ".py",
   "mimetype": "text/x-python",
   "name": "python",
   "nbconvert_exporter": "python",
   "pygments_lexer": "ipython3",
   "version": "3.7.12"
  }
 },
 "nbformat": 4,
 "nbformat_minor": 4
}
