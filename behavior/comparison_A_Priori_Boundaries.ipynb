{
 "cells": [
  {
   "cell_type": "code",
   "execution_count": 7,
   "metadata": {
    "tags": []
   },
   "outputs": [],
   "source": [
    "import pandas as pd\n",
    "import numpy as np\n",
    "import os\n",
    "import glob\n",
    "import math\n",
    "import statistics\n",
    "import matplotlib.pyplot as plt\n",
    "import seaborn as sns\n",
    "import pickle\n",
    "import copy\n",
    "from random import randrange\n",
    "import random\n",
    "from sklearn.metrics import jaccard_score\n",
    "from tqdm import tqdm"
   ]
  },
  {
   "cell_type": "code",
   "execution_count": 9,
   "metadata": {
    "tags": []
   },
   "outputs": [],
   "source": [
    "# import data\n",
    "data_dict = pd.read_csv('online_boundary_data.csv')\n",
    "\n",
    "# import story boundary files\n",
    "directory_stories = '../story_csv'\n",
    "\n",
    "filenames_stories = glob.glob(directory_stories + '/*.csv')\n",
    "\n",
    "dfs_stories = []\n",
    "    \n",
    "for filename in filenames_stories:\n",
    "    dfs_stories.append(pd.read_csv(filename))"
   ]
  },
  {
   "cell_type": "code",
   "execution_count": 11,
   "metadata": {
    "tags": []
   },
   "outputs": [],
   "source": [
    "# Arrange putative event boundaries into arrays:\n",
    "#mark the boundaries with a '1'\n",
    "#output: story_boundaries, where the first column has the location boundaries and the second column has the social\n",
    "#boundaries\n",
    "\n",
    "story_boundaries = dict()\n",
    "story_targets = dict()\n",
    "\n",
    "#read in the location and social event values from the story files \n",
    "for s in range(16):\n",
    "    this_story = int(dfs_stories[s]['story'].iloc[0])\n",
    "    keys2 = dfs_stories[s]['locationEvent'].values\n",
    "    keys3 = dfs_stories[s]['socialEvent'].values\n",
    "    story_boundaries[this_story] = keys2[:, np.newaxis]\n",
    "    story_boundaries[this_story] = np.concatenate((story_boundaries[this_story], keys3[:, np.newaxis]), axis = 1)\n",
    "    \n",
    "    story_targets[this_story] = np.column_stack(((dfs_stories[s]['locationAnswer'].values>0).astype(int), (dfs_stories[s]['socialAnswer'].values>0).astype(int)))\n",
    "    \n",
    "#mark the changes or boundaries from one event to another with a '1' and delete first two columns\n",
    "for key in story_boundaries:\n",
    "    location = story_boundaries[key][:,0]\n",
    "    social = story_boundaries[key][:,1]\n",
    "    for i in range(0, len(location)):  \n",
    "        if location[i] > location[i-1]:\n",
    "            location[i] = 7\n",
    "    for i in range(0, len(location)):  \n",
    "        if location[i] != 7:\n",
    "            location[i] = 0\n",
    "    for i in range(0, len(social)):\n",
    "        if social[i] > social[i - 1]:\n",
    "            social[i] = 7\n",
    "    for i in range(0, len(social)):\n",
    "        if social[i] != 7:\n",
    "            social[i] = 0\n",
    "    location[0] = 7\n",
    "    social[0] = 7\n",
    "    location2 = location > 1\n",
    "    social2 = social > 1\n",
    "    location2 = location2.astype(int)\n",
    "    social2 = social2.astype(int)\n",
    "    story_boundaries[key] = np.concatenate((story_boundaries[key], location2[:, np.newaxis]), axis = 1) \n",
    "    story_boundaries[key] = np.concatenate((story_boundaries[key], social2[:, np.newaxis]), axis = 1)\n",
    "    story_boundaries[key] = np.delete(story_boundaries[key] ,np.s_[0:2],axis=1)\n",
    "\n",
    "# Remove the first sentence/row from all stories \n",
    "for key in story_boundaries:\n",
    "    story_boundaries[key] = np.delete(story_boundaries[key],(0), axis = 0)\n",
    "    story_targets[key] = np.delete(story_targets[key],(0), axis = 0)"
   ]
  },
  {
   "cell_type": "code",
   "execution_count": 22,
   "metadata": {
    "tags": []
   },
   "outputs": [],
   "source": [
    "# organize and process keypresses\n",
    "# Processing the keypresses\n",
    "# Group similarly primed participants for each story\n",
    "loc_keys_r = dict()\n",
    "soc_keys_r = dict()\n",
    "none_keys_r = dict()\n",
    "all_keys_r = dict()\n",
    "\n",
    "for i in range(len(data_dict)):\n",
    "    this_story = data_dict.iloc[i]['story']\n",
    "    keys = np.array([int(p) for p in list(data_dict.iloc[i]['story_presses'])])\n",
    "    p_type = data_dict.iloc[i]['p_type']\n",
    "    #put all story keys in the same dictionary regardless of priming\n",
    "    if this_story in all_keys_r:\n",
    "        all_keys_r[this_story] = np.concatenate((all_keys_r[this_story],keys[:,np.newaxis]), axis=1)\n",
    "    else:\n",
    "        all_keys_r[this_story] = keys[:, np.newaxis]\n",
    "    #organize keys by priming type\n",
    "    #no prime\n",
    "    if p_type == 'np':\n",
    "        if this_story in none_keys_r:\n",
    "            none_keys_r[this_story] = np.concatenate((none_keys_r[this_story],keys[:,np.newaxis]), axis=1)\n",
    "        else:\n",
    "            none_keys_r[this_story] = keys[:, np.newaxis]\n",
    "    #loc prime\n",
    "    elif p_type == 'loc':\n",
    "        if this_story in loc_keys_r:\n",
    "            loc_keys_r[this_story] = np.concatenate((loc_keys_r[this_story],keys[:,np.newaxis]), axis=1)\n",
    "        else:\n",
    "            loc_keys_r[this_story] = keys[:, np.newaxis]\n",
    "    #soc prime\n",
    "    elif p_type == 'soc':\n",
    "        if this_story in soc_keys_r:\n",
    "            soc_keys_r[this_story] = np.concatenate((soc_keys_r[this_story],keys[:,np.newaxis]), axis=1)\n",
    "        else:\n",
    "            soc_keys_r[this_story] = keys[:, np.newaxis]\n",
    "            \n",
    "# convert keypresses from '9's and '1's to '1's and '0's\n",
    "loc_keys = dict()\n",
    "soc_keys = dict()\n",
    "none_keys = dict()\n",
    "all_keys = dict()\n",
    "\n",
    "#all keys\n",
    "for key in all_keys_r:\n",
    "    this_array = copy.deepcopy(all_keys_r[key])\n",
    "    this_array[this_array ==1] = 0\n",
    "    this_array[this_array == 9] = 1\n",
    "    all_keys[key] = this_array   \n",
    "    \n",
    "#none keys\n",
    "for key in none_keys_r:\n",
    "    this_array = copy.deepcopy(none_keys_r[key])\n",
    "    this_array[this_array ==1] = 0\n",
    "    this_array[this_array == 9] = 1\n",
    "    none_keys[key] = this_array   \n",
    "    \n",
    "#loc keys\n",
    "for key in loc_keys_r:\n",
    "    this_array = copy.deepcopy(loc_keys_r[key])\n",
    "    this_array[this_array ==1] = 0\n",
    "    this_array[this_array == 9] = 1\n",
    "    loc_keys[key] = this_array   \n",
    "    \n",
    "#soc keys\n",
    "for key in soc_keys_r:\n",
    "    this_array = copy.deepcopy(soc_keys_r[key])\n",
    "    this_array[this_array ==1] = 0\n",
    "    this_array[this_array == 9] = 1\n",
    "    soc_keys[key] = this_array   \n",
    "    \n",
    "# Remove first sentence (first row) from all keypresses\n",
    "list_keys = [all_keys, none_keys, loc_keys, soc_keys]\n",
    "for i in range(0, len(list_keys)):\n",
    "    for key in list_keys[i]:\n",
    "        list_keys[i][key] = np.delete(list_keys[i][key],(0), axis = 0)"
   ]
  },
  {
   "cell_type": "code",
   "execution_count": 23,
   "metadata": {
    "tags": []
   },
   "outputs": [],
   "source": [
    "df = pd.DataFrame(columns = ['sub', 'story', 'priming', 'loc_bounds', 'soc_bounds', 'loc_targets', 'soc_targets'], \n",
    "                   index = list(np.arange(len(data_dict))))\n",
    "\n",
    "\n",
    "key_type = [none_keys, loc_keys, soc_keys]\n",
    "prime_type = ['np', 'loc', 'soc']\n",
    "\n",
    "count_index = 0\n",
    "for this_story in all_keys:\n",
    "    for key_i, key in enumerate(key_type):\n",
    "        for this_subj in range(key_type[key_i][this_story].shape[1]):\n",
    "            new_row = [count_index]\n",
    "            new_row.append(this_story)\n",
    "            new_row.append(prime_type[key_i])\n",
    "            \n",
    "            subj_keys = key_type[key_i][this_story][:, this_subj]\n",
    "            for this_script in range(2):\n",
    "                # Get putative boundaries\n",
    "                put_b = story_boundaries[this_story].T[this_script]\n",
    "                subj_jaccard = jaccard_score(subj_keys, put_b)\n",
    "                new_row.append(subj_jaccard)\n",
    "            for this_script in range(2):\n",
    "                # Get targets\n",
    "                targets = story_targets[this_story].T[this_script]\n",
    "                subj_jaccard = jaccard_score(subj_keys, targets)\n",
    "                new_row.append(subj_jaccard)\n",
    "            df.loc[count_index] = new_row\n",
    "            count_index += 1"
   ]
  },
  {
   "cell_type": "code",
   "execution_count": 24,
   "metadata": {},
   "outputs": [],
   "source": [
    "df.to_csv('comparison_to_EB_vals.csv', index = False) "
   ]
  },
  {
   "cell_type": "code",
   "execution_count": null,
   "metadata": {},
   "outputs": [],
   "source": []
  },
  {
   "cell_type": "code",
   "execution_count": 25,
   "metadata": {
    "tags": []
   },
   "outputs": [
    {
     "name": "stdout",
     "output_type": "stream",
     "text": [
      "Avg keys pushed by no prime: 6.792079207920792\n",
      "Avg keys pushed by loc prime: 7.6415094339622645\n",
      "Avg keys pushed by soc prime: 7.02970297029703\n",
      "F_onewayResult(statistic=1.70706355741533, pvalue=0.1831261628514985)\n",
      "df_between= 2\n",
      "df_within= 305\n"
     ]
    }
   ],
   "source": [
    "from scipy.stats import f_oneway\n",
    "\n",
    "none_keytotal = np.concatenate([none_keys[s].sum(0) for s in none_keys])\n",
    "print('Avg keys pushed by no prime:',none_keytotal.mean())\n",
    "\n",
    "loc_keytotal = np.concatenate([loc_keys[s].sum(0) for s in loc_keys])\n",
    "print('Avg keys pushed by loc prime:',loc_keytotal.mean())\n",
    "\n",
    "soc_keytotal = np.concatenate([soc_keys[s].sum(0) for s in soc_keys])\n",
    "print('Avg keys pushed by soc prime:',soc_keytotal.mean())\n",
    "\n",
    "print(f_oneway(none_keytotal, loc_keytotal, soc_keytotal))\n",
    "print('df_between=',3-1)\n",
    "print('df_within=',len(none_keytotal)+len(loc_keytotal)+len(soc_keytotal)-3)"
   ]
  },
  {
   "cell_type": "code",
   "execution_count": null,
   "metadata": {},
   "outputs": [],
   "source": []
  }
 ],
 "metadata": {
  "kernelspec": {
   "display_name": "Python 3 (ipykernel)",
   "language": "python",
   "name": "python3"
  },
  "language_info": {
   "codemirror_mode": {
    "name": "ipython",
    "version": 3
   },
   "file_extension": ".py",
   "mimetype": "text/x-python",
   "name": "python",
   "nbconvert_exporter": "python",
   "pygments_lexer": "ipython3",
   "version": "3.7.12"
  }
 },
 "nbformat": 4,
 "nbformat_minor": 4
}
